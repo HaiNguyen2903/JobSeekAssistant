{
 "cells": [
  {
   "cell_type": "code",
   "execution_count": 11,
   "metadata": {},
   "outputs": [
    {
     "data": {
      "text/html": [
       "<div>\n",
       "<style scoped>\n",
       "    .dataframe tbody tr th:only-of-type {\n",
       "        vertical-align: middle;\n",
       "    }\n",
       "\n",
       "    .dataframe tbody tr th {\n",
       "        vertical-align: top;\n",
       "    }\n",
       "\n",
       "    .dataframe thead th {\n",
       "        text-align: right;\n",
       "    }\n",
       "</style>\n",
       "<table border=\"1\" class=\"dataframe\">\n",
       "  <thead>\n",
       "    <tr style=\"text-align: right;\">\n",
       "      <th></th>\n",
       "      <th>job_id</th>\n",
       "      <th>company_name</th>\n",
       "      <th>title</th>\n",
       "      <th>description</th>\n",
       "      <th>max_salary</th>\n",
       "      <th>pay_period</th>\n",
       "      <th>location</th>\n",
       "      <th>company_id</th>\n",
       "      <th>views</th>\n",
       "      <th>med_salary</th>\n",
       "      <th>...</th>\n",
       "      <th>skills_desc</th>\n",
       "      <th>listed_time</th>\n",
       "      <th>posting_domain</th>\n",
       "      <th>sponsored</th>\n",
       "      <th>work_type</th>\n",
       "      <th>currency</th>\n",
       "      <th>compensation_type</th>\n",
       "      <th>normalized_salary</th>\n",
       "      <th>zip_code</th>\n",
       "      <th>fips</th>\n",
       "    </tr>\n",
       "  </thead>\n",
       "  <tbody>\n",
       "    <tr>\n",
       "      <th>0</th>\n",
       "      <td>3245063922</td>\n",
       "      <td>Saxon AI</td>\n",
       "      <td>Data Architect</td>\n",
       "      <td>Request: Data ArchitectLocation: San Francisco...</td>\n",
       "      <td>NaN</td>\n",
       "      <td>NaN</td>\n",
       "      <td>San Francisco, CA</td>\n",
       "      <td>224935.0</td>\n",
       "      <td>7.0</td>\n",
       "      <td>NaN</td>\n",
       "      <td>...</td>\n",
       "      <td>NaN</td>\n",
       "      <td>1.713537e+12</td>\n",
       "      <td>NaN</td>\n",
       "      <td>0</td>\n",
       "      <td>CONTRACT</td>\n",
       "      <td>NaN</td>\n",
       "      <td>NaN</td>\n",
       "      <td>NaN</td>\n",
       "      <td>94101.0</td>\n",
       "      <td>6075.0</td>\n",
       "    </tr>\n",
       "    <tr>\n",
       "      <th>1</th>\n",
       "      <td>3398076960</td>\n",
       "      <td>NaN</td>\n",
       "      <td>Technical Product and IT Manager for Data Cent...</td>\n",
       "      <td>This opportunity is joining an innovation driv...</td>\n",
       "      <td>225000.0</td>\n",
       "      <td>YEARLY</td>\n",
       "      <td>United States</td>\n",
       "      <td>NaN</td>\n",
       "      <td>25.0</td>\n",
       "      <td>NaN</td>\n",
       "      <td>...</td>\n",
       "      <td>NaN</td>\n",
       "      <td>1.713555e+12</td>\n",
       "      <td>NaN</td>\n",
       "      <td>0</td>\n",
       "      <td>FULL_TIME</td>\n",
       "      <td>USD</td>\n",
       "      <td>BASE_SALARY</td>\n",
       "      <td>155000.0</td>\n",
       "      <td>NaN</td>\n",
       "      <td>NaN</td>\n",
       "    </tr>\n",
       "    <tr>\n",
       "      <th>2</th>\n",
       "      <td>3540371917</td>\n",
       "      <td>KeyBank</td>\n",
       "      <td>Enterprise Data &amp; Analytics Infrastructure Man...</td>\n",
       "      <td>The Enterprise Data Infrastructure and Analyti...</td>\n",
       "      <td>NaN</td>\n",
       "      <td>NaN</td>\n",
       "      <td>Cleveland, OH</td>\n",
       "      <td>3252.0</td>\n",
       "      <td>30.0</td>\n",
       "      <td>NaN</td>\n",
       "      <td>...</td>\n",
       "      <td>NaN</td>\n",
       "      <td>1.713452e+12</td>\n",
       "      <td>NaN</td>\n",
       "      <td>0</td>\n",
       "      <td>FULL_TIME</td>\n",
       "      <td>NaN</td>\n",
       "      <td>NaN</td>\n",
       "      <td>NaN</td>\n",
       "      <td>44102.0</td>\n",
       "      <td>39035.0</td>\n",
       "    </tr>\n",
       "  </tbody>\n",
       "</table>\n",
       "<p>3 rows × 31 columns</p>\n",
       "</div>"
      ],
      "text/plain": [
       "       job_id company_name                                              title  \\\n",
       "0  3245063922     Saxon AI                                     Data Architect   \n",
       "1  3398076960          NaN  Technical Product and IT Manager for Data Cent...   \n",
       "2  3540371917      KeyBank  Enterprise Data & Analytics Infrastructure Man...   \n",
       "\n",
       "                                         description  max_salary pay_period  \\\n",
       "0  Request: Data ArchitectLocation: San Francisco...         NaN        NaN   \n",
       "1  This opportunity is joining an innovation driv...    225000.0     YEARLY   \n",
       "2  The Enterprise Data Infrastructure and Analyti...         NaN        NaN   \n",
       "\n",
       "            location  company_id  views  med_salary  ...  skills_desc  \\\n",
       "0  San Francisco, CA    224935.0    7.0         NaN  ...          NaN   \n",
       "1      United States         NaN   25.0         NaN  ...          NaN   \n",
       "2      Cleveland, OH      3252.0   30.0         NaN  ...          NaN   \n",
       "\n",
       "    listed_time  posting_domain  sponsored  work_type currency  \\\n",
       "0  1.713537e+12             NaN          0   CONTRACT      NaN   \n",
       "1  1.713555e+12             NaN          0  FULL_TIME      USD   \n",
       "2  1.713452e+12             NaN          0  FULL_TIME      NaN   \n",
       "\n",
       "   compensation_type normalized_salary  zip_code     fips  \n",
       "0                NaN               NaN   94101.0   6075.0  \n",
       "1        BASE_SALARY          155000.0       NaN      NaN  \n",
       "2                NaN               NaN   44102.0  39035.0  \n",
       "\n",
       "[3 rows x 31 columns]"
      ]
     },
     "execution_count": 11,
     "metadata": {},
     "output_type": "execute_result"
    }
   ],
   "source": [
    "import pandas as pd\n",
    "df = pd.read_csv('datasets/job_descs_exp.csv')\n",
    "df.head(3)\n",
    "\n",
    "# df.head(10).to_csv('datasets/job_descs_exp.csv', index=False)"
   ]
  },
  {
   "cell_type": "code",
   "execution_count": 12,
   "metadata": {},
   "outputs": [],
   "source": [
    "import json\n",
    "\n",
    "with open('id_mapping.json', 'r') as f:\n",
    "    id_map = json.load(f)"
   ]
  },
  {
   "cell_type": "code",
   "execution_count": 20,
   "metadata": {},
   "outputs": [
    {
     "data": {
      "text/plain": [
       "\"Job Title: Data AnalystDuration: ContractLocation: Queens-NY (Day 1 onsite)-- Need only locals \\n\\nRole DescriptionThis is a contract role for a Data Analyst. As a Data Analyst, you will be responsible for collecting, analyzing, and interpreting complex data sets. You will work with various departments to identify patterns, trends, and insights that can be used to improve business operations. This is an on-site role located in Queens, NY.\\nQualificationsAnalytical skills, including the ability to collect, organize, analyze and disseminate significant amounts of information with attention to detail and accuracyData Analytics and Statistics skills, including experience with statistical analysis software and data visualization toolsExcellent communication skills, including the ability to explain technical concepts to non-technical stakeholders and present findings to both technical and non-technical audiencesData Modeling skills, including the ability to develop and maintain complex data models and schemasA Bachelor's degree in Computer Science, Mathematics, Statistics or related fieldExperience with cybersecurity, blockchain, or financial services industries is a plusExperience with SQL, Python, or R programming languages is preferred\""
      ]
     },
     "execution_count": 20,
     "metadata": {},
     "output_type": "execute_result"
    }
   ],
   "source": [
    "job_id = id_map['8']\n",
    "\n",
    "df[df.job_id == job_id]['description'].item()\n"
   ]
  },
  {
   "cell_type": "code",
   "execution_count": null,
   "metadata": {},
   "outputs": [
    {
     "data": {
      "text/plain": [
       "116       Request: Data ArchitectLocation: San Francisco...\n",
       "134       This opportunity is joining an innovation driv...\n",
       "165       The Enterprise Data Infrastructure and Analyti...\n",
       "283       Data Engineer with Kafka (W2 Only)💯% Remote\\nM...\n",
       "348       Company DescriptionPB Built is a residential c...\n",
       "                                ...                        \n",
       "123475    About This Featured Opportunity\\n\\nWe are look...\n",
       "123580    Role Title: Data Engineering Lead for a global...\n",
       "123727    Overview\\n\\nThe Credit Risk & Decision Science...\n",
       "123770    Overview\\n\\nManage Navy Federal's BSA/AML and ...\n",
       "123845    About Pinterest:\\n\\nMillions of people across ...\n",
       "Name: description, Length: 2720, dtype: object"
      ]
     },
     "execution_count": 6,
     "metadata": {},
     "output_type": "execute_result"
    },
    {
     "ename": "",
     "evalue": "",
     "output_type": "error",
     "traceback": [
      "\u001b[1;31mnotebook controller is DISPOSED. \n",
      "\u001b[1;31mView Jupyter <a href='command:jupyter.viewOutput'>log</a> for further details."
     ]
    }
   ],
   "source": [
    "df['description']"
   ]
  },
  {
   "cell_type": "code",
   "execution_count": null,
   "metadata": {},
   "outputs": [
    {
     "ename": "NameError",
     "evalue": "name 'df' is not defined",
     "output_type": "error",
     "traceback": [
      "\u001b[31m---------------------------------------------------------------------------\u001b[39m",
      "\u001b[31mNameError\u001b[39m                                 Traceback (most recent call last)",
      "\u001b[36mCell\u001b[39m\u001b[36m \u001b[39m\u001b[32mIn[1]\u001b[39m\u001b[32m, line 9\u001b[39m\n\u001b[32m      1\u001b[39m \u001b[38;5;66;03m# all_titles = df['title'].unique()\u001b[39;00m\n\u001b[32m      2\u001b[39m \n\u001b[32m      3\u001b[39m \u001b[38;5;66;03m# titles = ['Data Analyst', 'Data Scientist', 'Data Engineer', 'ML Engineer', 'Machine Learning Engineer', 'AI Engineer',\u001b[39;00m\n\u001b[32m      4\u001b[39m \u001b[38;5;66;03m#           'AI Researcher']\u001b[39;00m\n\u001b[32m      5\u001b[39m \u001b[38;5;66;03m# df_filter = df[df.title.isin(titles)]\u001b[39;00m\n\u001b[32m      7\u001b[39m title_keywords = [\u001b[33m'\u001b[39m\u001b[33mData \u001b[39m\u001b[33m'\u001b[39m, \u001b[33m'\u001b[39m\u001b[33mAI \u001b[39m\u001b[33m'\u001b[39m, \u001b[33m'\u001b[39m\u001b[33mML \u001b[39m\u001b[33m'\u001b[39m, \u001b[33m'\u001b[39m\u001b[33mMachine Learning \u001b[39m\u001b[33m'\u001b[39m]\n\u001b[32m----> \u001b[39m\u001b[32m9\u001b[39m df = \u001b[43mdf\u001b[49m[df.title.str.contains(\u001b[33m'\u001b[39m\u001b[33m|\u001b[39m\u001b[33m'\u001b[39m.join(title_keywords), case=\u001b[38;5;28;01mFalse\u001b[39;00m, na=\u001b[38;5;28;01mFalse\u001b[39;00m)]\n\u001b[32m     10\u001b[39m \u001b[38;5;28mprint\u001b[39m(\u001b[38;5;28mlen\u001b[39m(df))\n",
      "\u001b[31mNameError\u001b[39m: name 'df' is not defined"
     ]
    },
    {
     "ename": "",
     "evalue": "",
     "output_type": "error",
     "traceback": [
      "\u001b[1;31mnotebook controller is DISPOSED. \n",
      "\u001b[1;31mView Jupyter <a href='command:jupyter.viewOutput'>log</a> for further details."
     ]
    }
   ],
   "source": [
    "# all_titles = df['title'].unique()\n",
    "\n",
    "# titles = ['Data Analyst', 'Data Scientist', 'Data Engineer', 'ML Engineer', 'Machine Learning Engineer', 'AI Engineer',\n",
    "#           'AI Researcher']\n",
    "# df_filter = df[df.title.isin(titles)]\n",
    "\n",
    "title_keywords = ['Data ', 'AI ', 'ML ', 'Machine Learning ']\n",
    "\n",
    "df = df[df.title.str.contains('|'.join(title_keywords), case=False, na=False)]\n",
    "print(len(df))"
   ]
  },
  {
   "cell_type": "code",
   "execution_count": null,
   "metadata": {},
   "outputs": [],
   "source": []
  }
 ],
 "metadata": {
  "kernelspec": {
   "display_name": "nlp_analysis",
   "language": "python",
   "name": "python3"
  },
  "language_info": {
   "codemirror_mode": {
    "name": "ipython",
    "version": 3
   },
   "file_extension": ".py",
   "mimetype": "text/x-python",
   "name": "python",
   "nbconvert_exporter": "python",
   "pygments_lexer": "ipython3",
   "version": "3.12.9"
  }
 },
 "nbformat": 4,
 "nbformat_minor": 2
}

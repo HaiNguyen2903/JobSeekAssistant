{
 "cells": [
  {
   "cell_type": "code",
   "execution_count": 21,
   "metadata": {},
   "outputs": [
    {
     "data": {
      "text/html": [
       "<div>\n",
       "<style scoped>\n",
       "    .dataframe tbody tr th:only-of-type {\n",
       "        vertical-align: middle;\n",
       "    }\n",
       "\n",
       "    .dataframe tbody tr th {\n",
       "        vertical-align: top;\n",
       "    }\n",
       "\n",
       "    .dataframe thead th {\n",
       "        text-align: right;\n",
       "    }\n",
       "</style>\n",
       "<table border=\"1\" class=\"dataframe\">\n",
       "  <thead>\n",
       "    <tr style=\"text-align: right;\">\n",
       "      <th></th>\n",
       "      <th>job_id</th>\n",
       "      <th>company_name</th>\n",
       "      <th>title</th>\n",
       "      <th>description</th>\n",
       "      <th>max_salary</th>\n",
       "      <th>pay_period</th>\n",
       "      <th>location</th>\n",
       "      <th>company_id</th>\n",
       "      <th>views</th>\n",
       "      <th>med_salary</th>\n",
       "      <th>...</th>\n",
       "      <th>listed_time</th>\n",
       "      <th>posting_domain</th>\n",
       "      <th>sponsored</th>\n",
       "      <th>work_type</th>\n",
       "      <th>currency</th>\n",
       "      <th>compensation_type</th>\n",
       "      <th>normalized_salary</th>\n",
       "      <th>zip_code</th>\n",
       "      <th>fips</th>\n",
       "      <th>job_summary</th>\n",
       "    </tr>\n",
       "  </thead>\n",
       "  <tbody>\n",
       "    <tr>\n",
       "      <th>0</th>\n",
       "      <td>3245063922</td>\n",
       "      <td>Saxon AI</td>\n",
       "      <td>Data Architect</td>\n",
       "      <td>Request: Data ArchitectLocation: San Francisco...</td>\n",
       "      <td>NaN</td>\n",
       "      <td>NaN</td>\n",
       "      <td>San Francisco, CA</td>\n",
       "      <td>224935.0</td>\n",
       "      <td>7.0</td>\n",
       "      <td>NaN</td>\n",
       "      <td>...</td>\n",
       "      <td>1.713537e+12</td>\n",
       "      <td>NaN</td>\n",
       "      <td>0</td>\n",
       "      <td>CONTRACT</td>\n",
       "      <td>NaN</td>\n",
       "      <td>NaN</td>\n",
       "      <td>NaN</td>\n",
       "      <td>94101.0</td>\n",
       "      <td>6075.0</td>\n",
       "      <td>Skills: AWS, EC2, S3, Lambda, Glue, Athena, Ki...</td>\n",
       "    </tr>\n",
       "    <tr>\n",
       "      <th>1</th>\n",
       "      <td>3398076960</td>\n",
       "      <td>NaN</td>\n",
       "      <td>Technical Product and IT Manager for Data Cent...</td>\n",
       "      <td>This opportunity is joining an innovation driv...</td>\n",
       "      <td>225000.0</td>\n",
       "      <td>YEARLY</td>\n",
       "      <td>United States</td>\n",
       "      <td>NaN</td>\n",
       "      <td>25.0</td>\n",
       "      <td>NaN</td>\n",
       "      <td>...</td>\n",
       "      <td>1.713555e+12</td>\n",
       "      <td>NaN</td>\n",
       "      <td>0</td>\n",
       "      <td>FULL_TIME</td>\n",
       "      <td>USD</td>\n",
       "      <td>BASE_SALARY</td>\n",
       "      <td>155000.0</td>\n",
       "      <td>NaN</td>\n",
       "      <td>NaN</td>\n",
       "      <td>Skills: data center product management, market...</td>\n",
       "    </tr>\n",
       "    <tr>\n",
       "      <th>2</th>\n",
       "      <td>3540371917</td>\n",
       "      <td>KeyBank</td>\n",
       "      <td>Enterprise Data &amp; Analytics Infrastructure Man...</td>\n",
       "      <td>The Enterprise Data Infrastructure and Analyti...</td>\n",
       "      <td>NaN</td>\n",
       "      <td>NaN</td>\n",
       "      <td>Cleveland, OH</td>\n",
       "      <td>3252.0</td>\n",
       "      <td>30.0</td>\n",
       "      <td>NaN</td>\n",
       "      <td>...</td>\n",
       "      <td>1.713452e+12</td>\n",
       "      <td>NaN</td>\n",
       "      <td>0</td>\n",
       "      <td>FULL_TIME</td>\n",
       "      <td>NaN</td>\n",
       "      <td>NaN</td>\n",
       "      <td>NaN</td>\n",
       "      <td>44102.0</td>\n",
       "      <td>39035.0</td>\n",
       "      <td>Skills: leadership, infrastructure support, da...</td>\n",
       "    </tr>\n",
       "  </tbody>\n",
       "</table>\n",
       "<p>3 rows × 32 columns</p>\n",
       "</div>"
      ],
      "text/plain": [
       "       job_id company_name                                              title  \\\n",
       "0  3245063922     Saxon AI                                     Data Architect   \n",
       "1  3398076960          NaN  Technical Product and IT Manager for Data Cent...   \n",
       "2  3540371917      KeyBank  Enterprise Data & Analytics Infrastructure Man...   \n",
       "\n",
       "                                         description  max_salary pay_period  \\\n",
       "0  Request: Data ArchitectLocation: San Francisco...         NaN        NaN   \n",
       "1  This opportunity is joining an innovation driv...    225000.0     YEARLY   \n",
       "2  The Enterprise Data Infrastructure and Analyti...         NaN        NaN   \n",
       "\n",
       "            location  company_id  views  med_salary  ...   listed_time  \\\n",
       "0  San Francisco, CA    224935.0    7.0         NaN  ...  1.713537e+12   \n",
       "1      United States         NaN   25.0         NaN  ...  1.713555e+12   \n",
       "2      Cleveland, OH      3252.0   30.0         NaN  ...  1.713452e+12   \n",
       "\n",
       "  posting_domain  sponsored  work_type  currency compensation_type  \\\n",
       "0            NaN          0   CONTRACT       NaN               NaN   \n",
       "1            NaN          0  FULL_TIME       USD       BASE_SALARY   \n",
       "2            NaN          0  FULL_TIME       NaN               NaN   \n",
       "\n",
       "   normalized_salary zip_code     fips  \\\n",
       "0                NaN  94101.0   6075.0   \n",
       "1           155000.0      NaN      NaN   \n",
       "2                NaN  44102.0  39035.0   \n",
       "\n",
       "                                         job_summary  \n",
       "0  Skills: AWS, EC2, S3, Lambda, Glue, Athena, Ki...  \n",
       "1  Skills: data center product management, market...  \n",
       "2  Skills: leadership, infrastructure support, da...  \n",
       "\n",
       "[3 rows x 32 columns]"
      ]
     },
     "execution_count": 21,
     "metadata": {},
     "output_type": "execute_result"
    }
   ],
   "source": [
    "import pandas as pd\n",
    "df = pd.read_csv('datasets/job_descs_sum_exp.csv')\n",
    "df.head(3)\n",
    "\n",
    "# df.head(10).to_csv('datasets/job_descs_exp.csv', index=False)"
   ]
  },
  {
   "cell_type": "code",
   "execution_count": 22,
   "metadata": {},
   "outputs": [
    {
     "data": {
      "text/plain": [
       "array(['Skills: AWS, EC2, S3, Lambda, Glue, Athena, Kinesis, ETL, Data Warehousing, SQL, Redshift, Python, SPARK, JSON, API integration, Cloud computing, Big data  \\nJob Roles: Data Architect  \\nExperience: Hands-on experience with specified technologies  \\nCareer Level: Mid  \\nEducation: ',\n",
       "       'Skills: data center product management, marketing, technical sales, account management, product strategy, Go To Market strategy, team recruitment and management, strong communication skills  \\nJob Roles: Cloud Product Manager, Revenue Officer  \\nExperience: 7-15+ years in data center product, business development, marketing, and/or sales  \\nCareer Level: Mid, Senior  \\nEducation: ',\n",
       "       'Skills: leadership, infrastructure support, data analytics, team management, stability and security, modernization  \\nJob Roles: Enterprise Data Infrastructure and Analytics Manager  \\nExperience: experience in managing engineering teams, expertise in data and analytics platforms  \\nCareer Level: Mid, Senior  \\nEducation: ',\n",
       "       'Skills: Kafka, API, Python, AWS, Informatica IICS, Snowflake, SQL, dimensional modeling, ETL development, Linux, shell scripting, git  \\nJob Roles: Data Engineer  \\nExperience: 10 to 12+ years of strong development experience  \\nCareer Level: Mid, Senior  \\nEducation: ',\n",
       "       'Skills: Excellent communication, interpersonal skills, Microsoft Office proficiency, attention to detail, organizational skills, multitasking  \\nJob Roles: Receptionist, Data Entry  \\nExperience: Prior experience as a receptionist or in a data entry role  \\nCareer Level: Entry  \\nEducation: ',\n",
       "       'Skills: big data analysis, statistical data processing, Python, C++, JAVA, AWS, GCP, Azure, communication skills  \\nJob Roles: software engineer, automotive engineer, data analyst  \\nExperience: 1-2 years automotive engineering experience, internship experience accepted  \\nCareer Level: Entry, Mid  \\nEducation: Bachelor’s degree in mechanical engineering, electrical engineering, computer science, software engineering, or equivalent  ',\n",
       "       'Skills: Python, data manipulation (Pandas, Numpy, Matplotlib, Plotly), RESTful APIs, cloud platforms (AWS/Azure/Databricks/Snowflake/GCP), Docker, Kubernetes, Linux, Windows, CI/CD Pipelines, Jira, version control (git), microservices, data science (AI/ML) algorithms, SQL, Timeseries databases  \\nJob Roles: Software Engineer  \\nExperience: Minimum 2 years of industry experience in developing production-level software  \\nCareer Level: Mid  \\nEducation: B.S in Math, Physics, Engineering, or Computer Science  ',\n",
       "       'Skills: React, JavaScript, TypeScript, Node.js, PHP, HTML, CSS, API, Git, MySQL, Docker, AWS, Test Driven Development, unit testing, integration testing  \\nJob Roles: Full Stack Developer  \\nExperience: 0 - 3+ years of full stack software development experience  \\nCareer Level: Entry, Mid  \\nEducation: BS in Computer Science or relevant field preferred  ',\n",
       "       \"Skills: Analytical skills, Data Analytics, Statistics, Data Visualization, Communication, Data Modeling, SQL, Python, R  \\nJob Roles: Data Analyst  \\nExperience: Experience with cybersecurity, blockchain, or financial services industries  \\nCareer Level: Entry, Mid  \\nEducation: Bachelor's degree in Computer Science, Mathematics, Statistics or related field  \",\n",
       "       'Skills: data management, software engineering, analytics, algorithm development, predictive modeling  \\nJob Roles: Data Analyst, Software Engineer, Data Scientist  \\nExperience: experience in mortgage banking, familiarity with data tools and technologies  \\nCareer Level: Mid  \\nEducation: Not specified  '],\n",
       "      dtype=object)"
      ]
     },
     "execution_count": 22,
     "metadata": {},
     "output_type": "execute_result"
    }
   ],
   "source": [
    "df['job_summary'].unique()"
   ]
  },
  {
   "cell_type": "code",
   "execution_count": 12,
   "metadata": {},
   "outputs": [],
   "source": [
    "import json\n",
    "\n",
    "with open('id_mapping.json', 'r') as f:\n",
    "    id_map = json.load(f)"
   ]
  },
  {
   "cell_type": "code",
   "execution_count": 20,
   "metadata": {},
   "outputs": [
    {
     "data": {
      "text/plain": [
       "\"Job Title: Data AnalystDuration: ContractLocation: Queens-NY (Day 1 onsite)-- Need only locals \\n\\nRole DescriptionThis is a contract role for a Data Analyst. As a Data Analyst, you will be responsible for collecting, analyzing, and interpreting complex data sets. You will work with various departments to identify patterns, trends, and insights that can be used to improve business operations. This is an on-site role located in Queens, NY.\\nQualificationsAnalytical skills, including the ability to collect, organize, analyze and disseminate significant amounts of information with attention to detail and accuracyData Analytics and Statistics skills, including experience with statistical analysis software and data visualization toolsExcellent communication skills, including the ability to explain technical concepts to non-technical stakeholders and present findings to both technical and non-technical audiencesData Modeling skills, including the ability to develop and maintain complex data models and schemasA Bachelor's degree in Computer Science, Mathematics, Statistics or related fieldExperience with cybersecurity, blockchain, or financial services industries is a plusExperience with SQL, Python, or R programming languages is preferred\""
      ]
     },
     "execution_count": 20,
     "metadata": {},
     "output_type": "execute_result"
    }
   ],
   "source": [
    "job_id = id_map['8']\n",
    "\n",
    "df[df.job_id == job_id]['description'].item()\n"
   ]
  },
  {
   "cell_type": "code",
   "execution_count": null,
   "metadata": {},
   "outputs": [],
   "source": []
  }
 ],
 "metadata": {
  "kernelspec": {
   "display_name": "nlp_analysis",
   "language": "python",
   "name": "python3"
  },
  "language_info": {
   "codemirror_mode": {
    "name": "ipython",
    "version": 3
   },
   "file_extension": ".py",
   "mimetype": "text/x-python",
   "name": "python",
   "nbconvert_exporter": "python",
   "pygments_lexer": "ipython3",
   "version": "3.12.9"
  }
 },
 "nbformat": 4,
 "nbformat_minor": 2
}
